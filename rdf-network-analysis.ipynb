{
 "cells": [
  {
   "cell_type": "markdown",
   "metadata": {},
   "source": [
    "# Network Analysis of RDF Graphs\n",
    "\n",
    "In this notebook we'll provide basic facilities for performing network analyses of RDF graphs easily with Python, [rdflib](https://github.com/RDFLib/rdflib) and [networkx](https://networkx.github.io/)\n",
    "\n",
    "We do this in 3 steps:\n",
    "- Load an arbitrary RDF graph into rdflib\n",
    "- Get a subgraph of relevance\n",
    "- Convert the rdflib Graph into an networkx Graph, as shown [here](https://github.com/RDFLib/rdflib/blob/master/rdflib/extras/external_graph_libs.py)\n",
    "- Run networkx's algorithms on that data structure"
   ]
  },
  {
   "cell_type": "code",
   "execution_count": 2,
   "metadata": {},
   "outputs": [
    {
     "name": "stdout",
     "output_type": "stream",
     "text": [
      "Requirement already satisfied: rdflib in /usr/local/lib/python3.6/site-packages (4.2.2)\n",
      "Collecting networkx\n",
      "Collecting matplotlib\n",
      "  Using cached https://files.pythonhosted.org/packages/28/6c/addb3560777f454b1d56f0020f89e901eaf68a62593d4795e38ddf24bbd6/matplotlib-3.0.2-cp36-cp36m-macosx_10_6_intel.macosx_10_9_intel.macosx_10_9_x86_64.macosx_10_10_intel.macosx_10_10_x86_64.whl\n",
      "Requirement already satisfied: pyparsing in /usr/local/lib/python3.6/site-packages (from rdflib) (2.3.0)\n",
      "Requirement already satisfied: isodate in /usr/local/lib/python3.6/site-packages (from rdflib) (0.6.0)\n",
      "Requirement already satisfied: decorator>=4.3.0 in /usr/local/lib/python3.6/site-packages (from networkx) (4.3.0)\n",
      "Collecting cycler>=0.10 (from matplotlib)\n",
      "  Using cached https://files.pythonhosted.org/packages/f7/d2/e07d3ebb2bd7af696440ce7e754c59dd546ffe1bbe732c8ab68b9c834e61/cycler-0.10.0-py2.py3-none-any.whl\n",
      "Requirement already satisfied: python-dateutil>=2.1 in /usr/local/lib/python3.6/site-packages (from matplotlib) (2.7.5)\n",
      "Requirement already satisfied: numpy>=1.10.0 in /Users/Albert/Library/Python/3.6/lib/python/site-packages (from matplotlib) (1.15.4)\n",
      "Collecting kiwisolver>=1.0.1 (from matplotlib)\n",
      "  Using cached https://files.pythonhosted.org/packages/fb/96/619db9bf08f652790fa9f3c3884a67dc43da4bdaa185a5aa2117eb4651e1/kiwisolver-1.0.1-cp36-cp36m-macosx_10_6_intel.macosx_10_9_intel.macosx_10_9_x86_64.macosx_10_10_intel.macosx_10_10_x86_64.whl\n",
      "Requirement already satisfied: six in /Users/Albert/Library/Python/3.6/lib/python/site-packages (from isodate->rdflib) (1.11.0)\n",
      "Requirement already satisfied: setuptools in /usr/local/lib/python3.6/site-packages (from kiwisolver>=1.0.1->matplotlib) (39.2.0)\n",
      "Installing collected packages: networkx, cycler, kiwisolver, matplotlib\n",
      "Successfully installed cycler-0.10.0 kiwisolver-1.0.1 matplotlib-3.0.2 networkx-2.2\n"
     ]
    }
   ],
   "source": [
    "# Install required packages in the current Jupyter kernel\n",
    "import sys\n",
    "!{sys.executable} -m pip install rdflib networkx matplotlib --user"
   ]
  },
  {
   "cell_type": "code",
   "execution_count": 48,
   "metadata": {},
   "outputs": [],
   "source": [
    "# Imports\n",
    "from rdflib import Graph as RDFGraph\n",
    "from rdflib.extras.external_graph_libs import rdflib_to_networkx_graph\n",
    "import networkx as nx\n",
    "from networkx import Graph as NXGraph\n",
    "import matplotlib.pyplot as plt\n",
    "import statistics\n",
    "from IPython.core.display import display, HTML"
   ]
  },
  {
   "cell_type": "code",
   "execution_count": 18,
   "metadata": {},
   "outputs": [
    {
     "name": "stdout",
     "output_type": "stream",
     "text": [
      "rdflib Graph loaded successfully with 20 triples\n"
     ]
    }
   ],
   "source": [
    "# RDF graph loading\n",
    "rg = RDFGraph()\n",
    "rg.parse('bsbm-sample.ttl', format='turtle')\n",
    "print(\"rdflib Graph loaded successfully with {} triples\".format(len(rg)))"
   ]
  },
  {
   "cell_type": "code",
   "execution_count": null,
   "metadata": {},
   "outputs": [],
   "source": [
    "# Subgraph construction (optional)\n",
    "print(\"Entity type to build nodes of the subgraph with: \")\n",
    "entity = input()\n",
    "print(\"Relation type to build edges of the subgraph with: \")\n",
    "relation = input()\n",
    "\n",
    "# TODO: Use entity and relation as parameters of a CONSTRUCT query\n",
    "query = \"\"\"\n",
    "PREFIX bsbm: <http://www4.wiwiss.fu-berlin.de/bizer/bsbm/v01/vocabulary/>\n",
    "CONSTRUCT {{ ?u a {} . ?u {} ?v }} WHERE {{ ?u a {} . ?u {} ?v }}\"\"\".format(entity, relation, entity, relation)\n",
    "# print(query)\n",
    "subg = rg.query(query)\n",
    "\n",
    "rg = subg"
   ]
  },
  {
   "cell_type": "code",
   "execution_count": 19,
   "metadata": {},
   "outputs": [
    {
     "name": "stdout",
     "output_type": "stream",
     "text": [
      "networkx Graph loaded successfully with length 16\n"
     ]
    }
   ],
   "source": [
    "# Conversion of rdflib.Graph to networkx.Graph\n",
    "G = rdflib_to_networkx_graph(rg)\n",
    "print(\"networkx Graph loaded successfully with length {}\".format(len(G)))"
   ]
  },
  {
   "cell_type": "code",
   "execution_count": 51,
   "metadata": {},
   "outputs": [
    {
     "data": {
      "text/html": [
       "<h1>Network analysis</h1>"
      ],
      "text/plain": [
       "<IPython.core.display.HTML object>"
      ]
     },
     "metadata": {},
     "output_type": "display_data"
    },
    {
     "data": {
      "text/html": [
       "<table><tr><th>Measure</th><th>Value</th>"
      ],
      "text/plain": [
       "<IPython.core.display.HTML object>"
      ]
     },
     "metadata": {},
     "output_type": "display_data"
    },
    {
     "name": "stdout",
     "output_type": "stream",
     "text": [
      "NETWORK SIZE\n",
      "============\n",
      "The network has 16 nodes and 18 edges\n",
      "\n"
     ]
    },
    {
     "data": {
      "text/html": [
       "<tr><td>Network size</td><td>Number of nodes: 16; Number of edges: 18"
      ],
      "text/plain": [
       "<IPython.core.display.HTML object>"
      ]
     },
     "metadata": {},
     "output_type": "display_data"
    },
    {
     "data": {
      "text/html": [
       "</table>"
      ],
      "text/plain": [
       "<IPython.core.display.HTML object>"
      ]
     },
     "metadata": {},
     "output_type": "display_data"
    },
    {
     "name": "stdout",
     "output_type": "stream",
     "text": [
      "PENDANTS\n",
      "============\n",
      "The network has 10 pendants\n",
      "\n",
      "DENSITY\n",
      "============\n",
      "The network density is 0.15\n",
      "\n",
      "DEGREE CENTRALITY\n",
      "=================\n",
      "The mean degree centrality is 0.15000000000000002, with stdev 0.17805533888009004\n",
      "\n",
      "EIGENVECTOR CENTRALITY\n",
      "======================\n",
      "The mean network eigenvector centrality is 0.21850957467771803, with stdev 0.12544774539932388\n",
      "\n",
      "BETWEENNESS CENTRALITY\n",
      "======================\n",
      "The mean betwenness centrality is 0.09642857142857143, with stdev 0.20010201479877862\n",
      "\n",
      "CONNECTED COMPONENTS\n",
      "====================\n",
      "The graph has 1 connected components\n",
      "Connected component 0 has 16 nodes\n",
      "\n",
      "CLUSTERS\n",
      "========\n",
      "The graph has 16 clusters\n",
      "Cluster 0 has 17 nodes\n",
      "Cluster 1 has 20 nodes\n",
      "Cluster 2 has 26 nodes\n",
      "Cluster 3 has 17 nodes\n",
      "Cluster 4 has 10 nodes\n",
      "Cluster 5 has 10 nodes\n",
      "Cluster 6 has 40 nodes\n",
      "Cluster 7 has 40 nodes\n",
      "Cluster 8 has 5 nodes\n",
      "Cluster 9 has 10 nodes\n",
      "Cluster 10 has 63 nodes\n",
      "Cluster 11 has 10 nodes\n",
      "Cluster 12 has 1 nodes\n",
      "Cluster 13 has 5 nodes\n",
      "Cluster 14 has 10 nodes\n",
      "Cluster 15 has 26 nodes\n",
      "\n",
      "Visualizing the graph:\n"
     ]
    },
    {
     "data": {
      "image/png": "[encoded data removed]",
      "text/plain": [
       "<Figure size 432x288 with 1 Axes>"
      ]
     },
     "metadata": {},
     "output_type": "display_data"
    }
   ],
   "source": [
    "# Analysis\n",
    "\n",
    "def mean(numbers):\n",
    "    return float(sum(numbers)) / max(len(numbers), 1)\n",
    "\n",
    "def number_of_pendants(g):\n",
    "    \"\"\"\n",
    "    Equals the number of nodes with degree 1\n",
    "    \"\"\"\n",
    "    pendants = 0\n",
    "    for u in g:\n",
    "        if g.degree[u] == 1:\n",
    "            pendants += 1\n",
    "    return pendants\n",
    "\n",
    "display(HTML(\"<h1>Network analysis</h1>\"))\n",
    "display(HTML(\"<table><tr><th>Measure</th><th>Value</th>\"))\n",
    "\n",
    "# Network size\n",
    "print(\"NETWORK SIZE\")\n",
    "print(\"============\")\n",
    "print(\"The network has {} nodes and {} edges\".format(G.number_of_nodes(), G.number_of_edges()))\n",
    "print()\n",
    "\n",
    "display(HTML(\"<tr><td>Network size</td><td>Number of nodes: {}; Number of edges: {}\".format(G.number_of_nodes(), G.number_of_edges())))\n",
    "\n",
    "display(HTML(\"</table>\"))\n",
    "\n",
    "\n",
    "\n",
    "\n",
    "# Network size\n",
    "print(\"PENDANTS\")\n",
    "print(\"============\")\n",
    "print(\"The network has {} pendants\".format(number_of_pendants(G)))\n",
    "print()\n",
    "\n",
    "# Density\n",
    "print(\"DENSITY\")\n",
    "print(\"============\")\n",
    "print(\"The network density is {}\".format(nx.density(G)))\n",
    "print()\n",
    "\n",
    "# Degree centrality -- mean and stdev\n",
    "dc = nx.degree_centrality(G)\n",
    "degrees = []\n",
    "for k,v in dc.items():\n",
    "    degrees.append(v)\n",
    "    \n",
    "print(\"DEGREE CENTRALITY\")\n",
    "print(\"=================\")\n",
    "print(\"The mean degree centrality is {}, with stdev {}\".format(mean(degrees), statistics.stdev(degrees)))\n",
    "print()\n",
    "\n",
    "# Eigenvector centrality -- mean and stdev\n",
    "ec = nx.eigenvector_centrality(G)\n",
    "degrees = []\n",
    "for k,v in ec.items():\n",
    "    degrees.append(v)\n",
    "    \n",
    "print(\"EIGENVECTOR CENTRALITY\")\n",
    "print(\"======================\")\n",
    "print(\"The mean network eigenvector centrality is {}, with stdev {}\".format(mean(degrees), statistics.stdev(degrees)))\n",
    "print()\n",
    "\n",
    "# Betweenness centrality -- mean and stdev\n",
    "bc = nx.betweenness_centrality(G)\n",
    "degrees = []\n",
    "for k,v in bc.items():\n",
    "    degrees.append(v)\n",
    "print(\"BETWEENNESS CENTRALITY\")\n",
    "print(\"======================\")\n",
    "print(\"The mean betwenness centrality is {}, with stdev {}\".format(mean(degrees), statistics.stdev(degrees)))\n",
    "print()\n",
    "\n",
    "\n",
    "# Connected components\n",
    "cc = list(nx.connected_components(G))\n",
    "print(\"CONNECTED COMPONENTS\")\n",
    "print(\"====================\")\n",
    "print(\"The graph has {} connected components\".format(len(cc)))\n",
    "for i,c in enumerate(cc):\n",
    "    print(\"Connected component {} has {} nodes\".format(i,len(c)))\n",
    "print()\n",
    "\n",
    "# Clusters\n",
    "cl = nx.clustering(G)\n",
    "print(\"CLUSTERS\")\n",
    "print(\"========\")\n",
    "print(\"The graph has {} clusters\".format(len(cl)))\n",
    "for i,c in enumerate(cl):\n",
    "    print(\"Cluster {} has {} nodes\".format(i,len(c)))\n",
    "print()\n",
    "    \n",
    "# Plot\n",
    "print(\"Visualizing the graph:\")\n",
    "plt.plot()\n",
    "nx.draw(G, with_labels=True, font_weight='bold')"
   ]
  }
 ],
 "metadata": {
  "kernelspec": {
   "display_name": "Python 3",
   "language": "python",
   "name": "python3"
  },
  "language_info": {
   "codemirror_mode": {
    "name": "ipython",
    "version": 3
   },
   "file_extension": ".py",
   "mimetype": "text/x-python",
   "name": "python",
   "nbconvert_exporter": "python",
   "pygments_lexer": "ipython3",
   "version": "3.6.5"
  }
 },
 "nbformat": 4,
 "nbformat_minor": 2
}
